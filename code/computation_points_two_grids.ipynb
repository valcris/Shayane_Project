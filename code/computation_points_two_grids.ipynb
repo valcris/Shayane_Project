{
 "cells": [
  {
   "cell_type": "markdown",
   "metadata": {},
   "source": [
    "# Computation points of Two Regular Grids -  Shayane's Thesis "
   ]
  },
  {
   "cell_type": "markdown",
   "metadata": {},
   "source": [
    "### Brief description"
   ]
  },
  {
   "cell_type": "markdown",
   "metadata": {},
   "source": [
    "This Jupyter notebook is a supplementary material contaning the code needed to generate part of the synthetic data and reproduce part of the figures and results of the manuscript. This code uses the open-source Python toolkit for geophysical modeling and inversion [Fatiando a Terra](http://www.fatiando.org/index.html).\n",
    "\n",
    "This code creates the horizontal coordinates of the synthetic data that are used in the numerical applications."
   ]
  },
  {
   "cell_type": "markdown",
   "metadata": {},
   "source": [
    "**Note:** A Jupyter notebook is a document that incorporates text, results, figures, and the Python source code to produce them. If you are viewing this from the URL https://nbviewer.jupyter.org/, the document will be static (not executable). To run the code, you will need to download the notebook and install all the required dependencies. For installing the Fatiando a Terra and all the required dependencies, please follow the instructions shown in http://www.fatiando.org/install.html."
   ]
  },
  {
   "cell_type": "markdown",
   "metadata": {},
   "source": [
    "### Import the required dependencies"
   ]
  },
  {
   "cell_type": "code",
   "execution_count": 1,
   "metadata": {
    "collapsed": false
   },
   "outputs": [
    {
     "name": "stderr",
     "output_type": "stream",
     "text": [
      "C:\\Users\\valeria\\Anaconda2\\lib\\site-packages\\fatiando\\vis\\mpl.py:70: UserWarning: This module will be removed in v0.6. We recommend the use of matplotlib.pyplot module directly. Some of the fatiando specific functions will remain.\n",
      "  \"specific functions will remain.\")\n",
      "C:\\Users\\valeria\\Anaconda2\\lib\\site-packages\\fatiando\\vis\\myv.py:53: UserWarning: This module will be removed in v0.7.\n",
      "  warnings.warn(\"This module will be removed in v0.7.\")\n"
     ]
    }
   ],
   "source": [
    "%matplotlib inline\n",
    "\n",
    "import numpy as np\n",
    "import matplotlib.pyplot as plt\n",
    "from mpl_toolkits.axes_grid1 import make_axes_locatable\n",
    "import cPickle as pickle\n",
    "import datetime\n",
    "from IPython.display import Markdown as md\n",
    "from IPython.display import display as dp\n",
    "import string as st\n",
    "\n",
    "from __future__ import division\n",
    "\n",
    "import auxiliary_functions as af\n",
    "\n",
    "import fatiando\n",
    "from fatiando import gridder\n",
    "from fatiando.mesher import Prism\n",
    "from fatiando.gridder import regular\n",
    "from fatiando.gravmag import prism\n",
    "from fatiando.vis import myv\n",
    "from fatiando.utils import ang2vec, contaminate\n",
    "from fatiando.constants import G"
   ]
  },
  {
   "cell_type": "code",
   "execution_count": 2,
   "metadata": {
    "collapsed": false
   },
   "outputs": [],
   "source": [
    "plt.rcParams['font.size'] = 12\n",
    "plt.rcParams['axes.labelsize'] = 12\n",
    "plt.rcParams['xtick.labelsize'] = 12\n",
    "plt.rcParams['ytick.labelsize'] = 12\n",
    "plt.rcParams['legend.fontsize'] = 12\n",
    "plt.rcParams['xtick.major.pad'] = 12\n",
    "plt.rcParams['ytick.major.pad'] = 12"
   ]
  },
  {
   "cell_type": "code",
   "execution_count": 3,
   "metadata": {
    "collapsed": true
   },
   "outputs": [],
   "source": [
    "notebook_name = 'computation_points_two_grids_.ipynb'"
   ]
  },
  {
   "cell_type": "code",
   "execution_count": 4,
   "metadata": {
    "collapsed": false
   },
   "outputs": [
    {
     "name": "stdout",
     "output_type": "stream",
     "text": [
      "Version of Fatiando a Terra used: ac2afbcb2d99b18f145cc1ed40075beb5f92dd5a\n"
     ]
    }
   ],
   "source": [
    "print(\"Version of Fatiando a Terra used: {}\".format(fatiando.__version__))"
   ]
  },
  {
   "cell_type": "code",
   "execution_count": 5,
   "metadata": {
    "collapsed": true
   },
   "outputs": [],
   "source": [
    "saved_files = [] #list of saved files"
   ]
  },
  {
   "cell_type": "markdown",
   "metadata": {},
   "source": [
    "### Load the synthetic model formed by a single rectangular prism"
   ]
  },
  {
   "cell_type": "code",
   "execution_count": 6,
   "metadata": {
    "collapsed": false
   },
   "outputs": [],
   "source": [
    "with open('..\\data\\model_single.pickle') as f:\n",
    "        full_model = pickle.load(f)"
   ]
  },
  {
   "cell_type": "markdown",
   "metadata": {},
   "source": [
    "### 2D grid of points"
   ]
  },
  {
   "cell_type": "markdown",
   "metadata": {
    "collapsed": true
   },
   "source": [
    "#### TWO Regular grids"
   ]
  },
  {
   "cell_type": "code",
   "execution_count": 7,
   "metadata": {
    "collapsed": true
   },
   "outputs": [],
   "source": [
    "regular_grid1 = dict() #empty dictionary\n",
    "regular_grid2 = dict() #empty dictionary"
   ]
  },
  {
   "cell_type": "code",
   "execution_count": 8,
   "metadata": {
    "collapsed": true
   },
   "outputs": [],
   "source": [
    "#area over which the data are calculated\n",
    "#x minimum, x maximum, y minimum and y maximum\n",
    "#regular_grid1['area1'] = [0, 5000, -5000, 2500]\n",
    "#regular_grid2['area2'] = [0, 5000, 0, 5000]\n",
    "\n",
    "regular_grid1['area1'] = [0, 5000, -5000, 0]\n",
    "regular_grid2['area2'] = [0, 5000, 0, 5000]\n",
    "\n",
    "\n",
    "#number of data along the x and y directions\n",
    "\n",
    "#regular_grid1['shape1'] = (10,20)\n",
    "#regular_grid2['shape2'] = (10,20)\n",
    "\n",
    "regular_grid1['shape1'] = (15,20)\n",
    "regular_grid2['shape2'] = (15,20)\n",
    "\n",
    "\n",
    "#total number of data\n",
    "regular_grid1['N1'] = regular_grid1['shape1'][0]*regular_grid1['shape1'][1]\n",
    "regular_grid2['N2'] = regular_grid2['shape2'][0]*regular_grid2['shape2'][1]\n",
    "\n",
    "#grid spacing along the y and x directions\n",
    "regular_grid1['spacing1'] = gridder.spacing(regular_grid1['area1'], regular_grid1['shape1'])\n",
    "regular_grid2['spacing2'] = gridder.spacing(regular_grid2['area2'], regular_grid2['shape2'])\n",
    "\n",
    "#element of area used in the numerical integration\n",
    "regular_grid1['DS1'] = regular_grid1['spacing1'][0]*regular_grid1['spacing1'][1]\n",
    "regular_grid1['DS1'] = regular_grid1['spacing1'][0]*regular_grid1['spacing1'][1]"
   ]
  },
  {
   "cell_type": "code",
   "execution_count": 9,
   "metadata": {
    "collapsed": true
   },
   "outputs": [],
   "source": [
    "#auxiliary informations about the grid\n",
    "now = datetime.datetime.utcnow().strftime('%d %B %Y %H:%M:%S UTC')\n",
    "regular_grid1['metadata1'] = 'Generated by {name} on {date}'.format(date=now, name=notebook_name)\n",
    "regular_grid2['metadata2'] = 'Generated by {name} on {date}'.format(date=now, name=notebook_name)"
   ]
  },
  {
   "cell_type": "code",
   "execution_count": 10,
   "metadata": {
    "collapsed": false
   },
   "outputs": [],
   "source": [
    "#save the grid model by using the Python pickle module (https://docs.python.org/2/library/pickle.html)\n",
    "file_name1 = '..\\\\data\\\\regular_grid1.pickle'\n",
    "with open(file_name1, 'w') as f:\n",
    "    pickle.dump(regular_grid1, f)\n",
    "saved_files.append(file_name1)"
   ]
  },
  {
   "cell_type": "code",
   "execution_count": 11,
   "metadata": {
    "collapsed": false
   },
   "outputs": [
    {
     "name": "stdout",
     "output_type": "stream",
     "text": [
      "area1 : [0, 5000, -5000, 0]\n",
      "shape1 : (15, 20)\n",
      "spacing1 : [357.14285714285717, 263.1578947368421]\n",
      "N1 : 300\n",
      "DS1 : 93984.962406\n",
      "metadata1 : Generated by computation_points_two_grids_.ipynb on 29 May 2018 19:41:15 UTC\n"
     ]
    }
   ],
   "source": [
    "for r in regular_grid1:\n",
    "    print r, ':', regular_grid1[r]    "
   ]
  },
  {
   "cell_type": "code",
   "execution_count": 12,
   "metadata": {
    "collapsed": false
   },
   "outputs": [],
   "source": [
    "#save the grid model by using the Python pickle module (https://docs.python.org/2/library/pickle.html)\n",
    "file_name2 = '..\\\\data\\\\regular_grid2.pickle'\n",
    "with open(file_name2, 'w') as f:\n",
    "    pickle.dump(regular_grid2, f)\n",
    "saved_files.append(file_name2)"
   ]
  },
  {
   "cell_type": "code",
   "execution_count": 13,
   "metadata": {
    "collapsed": false
   },
   "outputs": [
    {
     "name": "stdout",
     "output_type": "stream",
     "text": [
      "shape2 : (15, 20)\n",
      "N2 : 300\n",
      "spacing2 : [357.14285714285717, 263.1578947368421]\n",
      "metadata2 : Generated by computation_points_two_grids_.ipynb on 29 May 2018 19:41:15 UTC\n",
      "area2 : [0, 5000, 0, 5000]\n"
     ]
    }
   ],
   "source": [
    "for r in regular_grid2:\n",
    "    print r, ':', regular_grid2[r]    "
   ]
  },
  {
   "cell_type": "code",
   "execution_count": 14,
   "metadata": {
    "collapsed": false
   },
   "outputs": [],
   "source": [
    "#coordinates x and y of the data\n",
    "xr1, yr1 = regular(regular_grid1['area1'], regular_grid1['shape1'])\n",
    "xr2, yr2 = regular(regular_grid2['area2'], regular_grid2['shape2'])"
   ]
  },
  {
   "cell_type": "code",
   "execution_count": 15,
   "metadata": {
    "collapsed": false
   },
   "outputs": [
    {
     "data": {
      "image/png": "[encoded data removed]",
      "text/plain": [
       "<matplotlib.figure.Figure at 0x8308160>"
      ]
     },
     "metadata": {},
     "output_type": "display_data"
    }
   ],
   "source": [
    "file_name = '..\\\\figs\\\\Two_Regular_Grids'\n",
    "plt.figure(figsize=(15, 6))\n",
    "\n",
    "ax = plt.gca()\n",
    "plt.plot(yr1, xr1, 'b+', markersize=8)\n",
    "plt.plot(yr2, xr2, 'r.', markersize=7)\n",
    "\n",
    "plt.title(\"Two Regular grids of $%d \\\\times %d$ points and $%d \\\\times %d$ points \" \\\n",
    "%(regular_grid1['shape1'][0], regular_grid1['shape1'][1], regular_grid2['shape2'][0], regular_grid2['shape2'][1]))\n",
    "\n",
    "\n",
    "for i, sq in enumerate(full_model['projection']):\n",
    "    y1, y2, x1, x2 = sq\n",
    "    xs = [x1, x1, x2, x2, x1]\n",
    "    ys = [y1, y2, y2, y1, y1]\n",
    "    projection_style = '-k'\n",
    "    ax.plot(xs, ys, projection_style,linewidth = 2.0 )\n",
    "    \n",
    "        \n",
    "plt.xlabel('Easting coordinates y (m)')\n",
    "plt.ylabel('Northing coordinates x(m)')\n",
    "plt.savefig(file_name+'.eps', dpi=600)\n"
   ]
  },
  {
   "cell_type": "markdown",
   "metadata": {
    "collapsed": false
   },
   "source": [
    "af.plotmap(xr1, yr1, None, regular_grid1['shape1'], regular_grid1['area1'], \n",
    "           color_scheme = None, \n",
    "           prism_projection = True, projection_style = '-k', \n",
    "           model = full_model['projection'],\n",
    "           observations=True, point_style='.k', point_size=1)"
   ]
  },
  {
   "cell_type": "code",
   "execution_count": 16,
   "metadata": {
    "collapsed": false
   },
   "outputs": [],
   "source": [
    "caption = \"Two Regular grids of $%d \\\\times %d$ points and $%d \\\\times %d$ points to be used to joint two magnetic data  \\\n",
    "which were acquired in different airborne survey .\" \\\n",
    "%(regular_grid1['shape1'][0], regular_grid1['shape1'][1], regular_grid2['shape2'][0], regular_grid2['shape2'][1])\n"
   ]
  },
  {
   "cell_type": "code",
   "execution_count": 17,
   "metadata": {
    "collapsed": false
   },
   "outputs": [
    {
     "data": {
      "text/markdown": [
       "Two Regular grids of $15 \\times 20$ points and $15 \\times 20$ points to be used to joint two magnetic data  which were acquired in different airborne survey ."
      ],
      "text/plain": [
       "<IPython.core.display.Markdown object>"
      ]
     },
     "metadata": {},
     "output_type": "display_data"
    }
   ],
   "source": [
    "dp(md(caption))"
   ]
  },
  {
   "cell_type": "markdown",
   "metadata": {
    "collapsed": true
   },
   "source": [
    "### Saved files"
   ]
  },
  {
   "cell_type": "code",
   "execution_count": 18,
   "metadata": {
    "collapsed": false
   },
   "outputs": [
    {
     "name": "stdout",
     "output_type": "stream",
     "text": [
      "1  ..\\data\\regular_grid1.pickle\n",
      "2  ..\\data\\regular_grid2.pickle\n"
     ]
    }
   ],
   "source": [
    "with open('reports\\\\report_%s.md' % notebook_name[:st.index(notebook_name,'.')], 'w') as f:\n",
    "    f.write('# Saved files \\n')\n",
    "    now = datetime.datetime.utcnow().strftime('%d %B %Y %H:%M:%S UTC')\n",
    "    header = 'Generated by {name} on {date}'.format(date=now, name=notebook_name)\n",
    "    f.write('\\n\\n'+header+'\\n\\n')\n",
    "    for i, sf in enumerate(saved_files):\n",
    "        print '%d  %s' % (i+1,sf)\n",
    "        f.write('*  `%s` \\n' % (sf))"
   ]
  },
  {
   "cell_type": "code",
   "execution_count": null,
   "metadata": {
    "collapsed": true
   },
   "outputs": [],
   "source": []
  }
 ],
 "metadata": {
  "anaconda-cloud": {},
  "kernelspec": {
   "display_name": "Python 2",
   "language": "python",
   "name": "python2"
  },
  "language_info": {
   "codemirror_mode": {
    "name": "ipython",
    "version": 2
   },
   "file_extension": ".py",
   "mimetype": "text/x-python",
   "name": "python",
   "nbconvert_exporter": "python",
   "pygments_lexer": "ipython2",
   "version": "2.7.13"
  }
 },
 "nbformat": 4,
 "nbformat_minor": 0
}
