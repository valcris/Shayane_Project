{
 "cells": [
  {
   "cell_type": "markdown",
   "metadata": {},
   "source": [
    "# Synthetic model"
   ]
  },
  {
   "cell_type": "markdown",
   "metadata": {},
   "source": [
    "### Brief description"
   ]
  },
  {
   "cell_type": "markdown",
   "metadata": {},
   "source": [
    "This Jupyter notebook is a supplementary material contaning the code needed to generate part of the synthetic data and reproduce part of the figures and results of the manuscript. This code uses the open-source Python toolkit for geophysical modeling and inversion [Fatiando a Terra](http://www.fatiando.org/index.html).\n",
    "\n",
    "This code creates the simulated bodies used in the numerical applications."
   ]
  },
  {
   "cell_type": "markdown",
   "metadata": {},
   "source": [
    "**Note:** A Jupyter notebook is a document that incorporates text, results, figures, and the Python source code to produce them. If you are viewing this from the URL https://nbviewer.jupyter.org/, the document will be static (not executable). To run the code, you will need to download the notebook and install all the required dependencies. For installing the Fatiando a Terra and all the required dependencies, please follow the instructions shown in http://www.fatiando.org/install.html."
   ]
  },
  {
   "cell_type": "markdown",
   "metadata": {},
   "source": [
    "### Import the required dependencies"
   ]
  },
  {
   "cell_type": "code",
   "execution_count": 1,
   "metadata": {
    "collapsed": false
   },
   "outputs": [
    {
     "name": "stderr",
     "output_type": "stream",
     "text": [
      "C:\\Anaconda2\\lib\\site-packages\\fatiando\\vis\\mpl.py:70: UserWarning: This module will be removed in v0.6. We recommend the use of matplotlib.pyplot module directly. Some of the fatiando specific functions will remain.\n",
      "  \"specific functions will remain.\")\n",
      "C:\\Anaconda2\\lib\\site-packages\\fatiando\\vis\\myv.py:53: UserWarning: This module will be removed in v0.7.\n",
      "  warnings.warn(\"This module will be removed in v0.7.\")\n"
     ]
    }
   ],
   "source": [
    "%matplotlib inline\n",
    "\n",
    "import numpy as np\n",
    "import matplotlib.pyplot as plt\n",
    "import cPickle as pickle\n",
    "import datetime\n",
    "from IPython.display import Image as img\n",
    "from IPython.display import Markdown as md\n",
    "from IPython.display import display as dp\n",
    "import string as st\n",
    "\n",
    "from __future__ import division\n",
    "\n",
    "#import auxiliary_functions as af\n",
    "\n",
    "import fatiando\n",
    "from fatiando import gridder\n",
    "from fatiando.mesher import Prism\n",
    "from fatiando.gridder import regular\n",
    "from fatiando.gravmag import prism\n",
    "from fatiando.vis import myv\n",
    "from fatiando.utils import ang2vec, contaminate\n",
    "from fatiando.constants import G\n",
    "\n",
    "plt.rc('font', size=14)"
   ]
  },
  {
   "cell_type": "code",
   "execution_count": 2,
   "metadata": {
    "collapsed": true
   },
   "outputs": [],
   "source": [
    "notebook_name = 'synthetic_model_Single_Prims.ipynb'"
   ]
  },
  {
   "cell_type": "code",
   "execution_count": 3,
   "metadata": {
    "collapsed": false
   },
   "outputs": [
    {
     "name": "stdout",
     "output_type": "stream",
     "text": [
      "Version of Fatiando a Terra used: ac2afbcb2d99b18f145cc1ed40075beb5f92dd5a\n"
     ]
    }
   ],
   "source": [
    "print(\"Version of Fatiando a Terra used: {}\".format(fatiando.__version__))"
   ]
  },
  {
   "cell_type": "code",
   "execution_count": 4,
   "metadata": {
    "collapsed": true
   },
   "outputs": [],
   "source": [
    "saved_files = [] #list of saved files"
   ]
  },
  {
   "cell_type": "markdown",
   "metadata": {},
   "source": [
    "### Synthetic model formed by two rectangular prisms"
   ]
  },
  {
   "cell_type": "markdown",
   "metadata": {},
   "source": [
    "#### Create the model"
   ]
  },
  {
   "cell_type": "code",
   "execution_count": 5,
   "metadata": {
    "collapsed": true
   },
   "outputs": [],
   "source": [
    "rho1 = 2670.   # density of the smaller prism\n",
    "m1 = 10.       # magnetization intensity of the smaller prism\n",
    "incs = 30.     # magnetization inclination of the source\n",
    "decs = -10.0   # magnetization declination of the source\n",
    "\n",
    "# Cartesian components of the unitary vector with the\n",
    "# same direction as the magnetization of the sources\n",
    "mx, my, mz = ang2vec(1.0, incs, decs)"
   ]
  },
  {
   "cell_type": "code",
   "execution_count": 6,
   "metadata": {
    "collapsed": true
   },
   "outputs": [],
   "source": [
    "full_model_single = dict() #empty dictionary\n",
    "full_model_single_pole   = dict() #empty dictionary"
   ]
  },
  {
   "cell_type": "code",
   "execution_count": 7,
   "metadata": {
    "collapsed": true
   },
   "outputs": [],
   "source": [
    "#Local-geomagnetic field (inclination and declination in degress)\n",
    "#full_model_single['geomag_field'] = (6., -40.5)"
   ]
  },
  {
   "cell_type": "code",
   "execution_count": 8,
   "metadata": {
    "collapsed": false
   },
   "outputs": [],
   "source": [
    "#Create a model composed of two elements of the class fatiado.mesher.Prism\n",
    "#full_model_single['model'] = [Prism(2000., 3000., -2000., 2000., 500., 1000.,\n",
    "#                       props={'density':rho1, 'magnetization': ang2vec(m1,incs,decs)})]\n",
    "\n",
    "full_model_single['model'] = [Prism(2200., 2800., -1000., 1000., 500., 1000.,\n",
    "                       props={'density':rho1, 'magnetization': ang2vec(m1,incs,decs)})]"
   ]
  },
  {
   "cell_type": "code",
   "execution_count": 9,
   "metadata": {
    "collapsed": true
   },
   "outputs": [],
   "source": [
    "#Create a model in the pole composed of two elements of the class fatiado.mesher.Prism\n",
    "\n",
    "#full_model_single_pole['model_pole'] = [Prism(2000., 3000., -2000., 2000., 500., 1000.,\n",
    "#                       props={'density':rho1, 'magnetization': ang2vec(m1,90.,0.)})]\n",
    "\n",
    "full_model_single_pole['model_pole'] = [Prism(2200., 2800., -1000., 1000., 500., 1000.,\n",
    "                       props={'density':rho1, 'magnetization': ang2vec(m1,90.,0.)})]"
   ]
  },
  {
   "cell_type": "code",
   "execution_count": 10,
   "metadata": {
    "collapsed": false
   },
   "outputs": [],
   "source": [
    "#horizontal projection of the model\n",
    "full_model_single['projection'] = []\n",
    "for i, p in enumerate(full_model_single['model']):\n",
    "    full_model_single['projection'].append(p.get_bounds()[:4])"
   ]
  },
  {
   "cell_type": "code",
   "execution_count": 11,
   "metadata": {
    "collapsed": true
   },
   "outputs": [],
   "source": [
    "#horizontal projection of the model Pole\n",
    "full_model_single_pole['projection_pole'] = []\n",
    "for i, p in enumerate(full_model_single_pole['model_pole']):\n",
    "    full_model_single_pole['projection_pole'].append(p.get_bounds()[:4])"
   ]
  },
  {
   "cell_type": "code",
   "execution_count": 12,
   "metadata": {
    "collapsed": false
   },
   "outputs": [
    {
     "data": {
      "text/plain": [
       "[[2200.0, 2800.0, -1000.0, 1000.0]]"
      ]
     },
     "execution_count": 12,
     "metadata": {},
     "output_type": "execute_result"
    }
   ],
   "source": [
    "full_model_single['projection']"
   ]
  },
  {
   "cell_type": "code",
   "execution_count": 13,
   "metadata": {
    "collapsed": false
   },
   "outputs": [],
   "source": [
    "assert (full_model_single['projection'] == full_model_single_pole['projection_pole']), 'The synthetic model must be equal of the synthetic model in the pole '"
   ]
  },
  {
   "cell_type": "code",
   "execution_count": 14,
   "metadata": {
    "collapsed": false
   },
   "outputs": [
    {
     "name": "stdout",
     "output_type": "stream",
     "text": [
      "[[500.0, 1000.0]]\n"
     ]
    }
   ],
   "source": [
    "#top and bottoms of the model\n",
    "full_model_single['depth_model'] = []\n",
    "for i, depth in enumerate(full_model_single['model']):\n",
    "    full_model_single['depth_model'].append(depth.get_bounds()[4:])\n",
    "print  full_model_single['depth_model']"
   ]
  },
  {
   "cell_type": "code",
   "execution_count": 15,
   "metadata": {
    "collapsed": true
   },
   "outputs": [],
   "source": [
    "#auxiliary informations about the model\n",
    "now = datetime.datetime.utcnow().strftime('%d %B %Y %H:%M:%S UTC')\n",
    "full_model_single['metadata'] = 'Generated by {name} on {date}'.format(date=now, name=notebook_name)"
   ]
  },
  {
   "cell_type": "code",
   "execution_count": 16,
   "metadata": {
    "collapsed": true
   },
   "outputs": [],
   "source": [
    "#auxiliary informations about the model in the pole\n",
    "now = datetime.datetime.utcnow().strftime('%d %B %Y %H:%M:%S UTC')\n",
    "full_model_single_pole['metadata'] = 'Generated by {name} on {date}'.format(date=now, name=notebook_name)"
   ]
  },
  {
   "cell_type": "markdown",
   "metadata": {},
   "source": [
    "#### Save the model"
   ]
  },
  {
   "cell_type": "code",
   "execution_count": 17,
   "metadata": {
    "collapsed": true
   },
   "outputs": [],
   "source": [
    "#save the model by using the Python pickle module (https://docs.python.org/2/library/pickle.html)\n",
    "file_name = '..\\data\\model_single.pickle'\n",
    "with open(file_name, 'w') as f:\n",
    "    pickle.dump(full_model_single, f)\n",
    "    \n",
    "saved_files.append(file_name)"
   ]
  },
  {
   "cell_type": "code",
   "execution_count": 18,
   "metadata": {
    "collapsed": true
   },
   "outputs": [],
   "source": [
    "#save the model by using the Python pickle module (https://docs.python.org/2/library/pickle.html)\n",
    "file_name = '..\\data\\model_single_pole.pickle'\n",
    "with open(file_name, 'w') as f:\n",
    "    pickle.dump(full_model_single_pole, f)\n",
    "    \n",
    "saved_files.append(file_name)"
   ]
  },
  {
   "cell_type": "markdown",
   "metadata": {},
   "source": [
    "#### 3D plot of the model"
   ]
  },
  {
   "cell_type": "markdown",
   "metadata": {
    "collapsed": true,
    "scrolled": true
   },
   "source": [
    "bounds = [11000, 20000, 13000, 24000, 0, 3000]\n",
    "scene = myv.figure(size=(12000., 8000.))\n",
    "myv.prisms(full_model_single['model'], color=(0.5, 0.5, 0.5), linewidth=1)\n",
    "ax = myv.axes(myv.outline(extent=bounds), ranges=[b*0.001 for b in bounds], nlabels=3, fmt='%.1f')\n",
    "ax.axes.x_label, ax.axes.y_label, ax.axes.z_label = 'x (km)', 'y (km)', 'z (km)'\n",
    "ax.axes.font_factor = 1.1\n",
    "myv.wall_north(bounds)\n",
    "myv.wall_bottom(bounds)\n",
    "\n",
    "scene.scene.camera.position = [-3636.7651215354613, 10743.121645670348, -8829.4824339882798]\n",
    "scene.scene.camera.focal_point = [15499.999999999745, 18499.999999999778, 1499.9999999999959]\n",
    "scene.scene.camera.view_angle = 30.0\n",
    "scene.scene.camera.view_up = [0.41366230359938, 0.17041624454596982, -0.89433875135526963]\n",
    "scene.scene.camera.clipping_range = [10422.897651780093, 39087.786072184674]\n",
    "scene.scene.camera.compute_view_plane_normal()\n",
    "scene.scene.render()\n",
    "\n",
    "file_name = '..\\\\manuscript\\\\figs\\\\Fig3'\n",
    "\n",
    "myv.savefig(file_name+'.png')\n",
    "\n",
    "saved_files.append(file_name+'.png')\n",
    "\n",
    "myv.show()"
   ]
  },
  {
   "cell_type": "markdown",
   "metadata": {
    "collapsed": true
   },
   "source": [
    "caption = \"Synthetic prism with constant density $\\\\rho$ = %.1f kg/m$^{3}$ and constant magnetization vector \\\n",
    "with intensity $m$ = %.1f A/m, \\\n",
    "inclination %.1f$^{\\circ}$ and declination %.1f$^{\\circ}$. The geomagnetic field has %.1f$^{\\circ}$ \\\n",
    "inclination and %.1f$^{\\circ}$ \\\n",
    "declination.\" % (rho1, m1, incs, decs, full_model_single['geomag_field'][0], full_model_single['geomag_field'][1])"
   ]
  },
  {
   "cell_type": "markdown",
   "metadata": {
    "collapsed": false
   },
   "source": [
    "dp(md(caption))"
   ]
  },
  {
   "cell_type": "markdown",
   "metadata": {},
   "source": [
    "### Saved files"
   ]
  },
  {
   "cell_type": "code",
   "execution_count": 19,
   "metadata": {
    "collapsed": false
   },
   "outputs": [
    {
     "name": "stdout",
     "output_type": "stream",
     "text": [
      "1  ..\\data\\model_single.pickle\n",
      "2  ..\\data\\model_single_pole.pickle\n"
     ]
    }
   ],
   "source": [
    "with open('reports\\\\report_%s.md' % notebook_name[:st.index(notebook_name, '.')], 'w') as f:\n",
    "    f.write('# Saved files \\n')\n",
    "    now = datetime.datetime.utcnow().strftime('%d %B %Y %H:%M:%S UTC')\n",
    "    header = 'Generated by {name} on {date}'.format(date=now, name=notebook_name)\n",
    "    f.write('\\n\\n'+header+'\\n\\n')\n",
    "    for i, sf in enumerate(saved_files):\n",
    "        print '%d  %s' % (i+1,sf)\n",
    "        f.write('*  `%s` \\n' % (sf))"
   ]
  },
  {
   "cell_type": "code",
   "execution_count": null,
   "metadata": {
    "collapsed": true
   },
   "outputs": [],
   "source": []
  }
 ],
 "metadata": {
  "anaconda-cloud": {},
  "kernelspec": {
   "display_name": "Python 2",
   "language": "python",
   "name": "python2"
  },
  "language_info": {
   "codemirror_mode": {
    "name": "ipython",
    "version": 2
   },
   "file_extension": ".py",
   "mimetype": "text/x-python",
   "name": "python",
   "nbconvert_exporter": "python",
   "pygments_lexer": "ipython2",
   "version": "2.7.13"
  }
 },
 "nbformat": 4,
 "nbformat_minor": 1
}
