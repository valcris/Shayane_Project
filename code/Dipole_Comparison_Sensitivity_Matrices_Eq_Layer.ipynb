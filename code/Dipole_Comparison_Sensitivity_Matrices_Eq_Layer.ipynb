{
 "cells": [
  {
   "cell_type": "markdown",
   "metadata": {},
   "source": [
    "### Comparison of two ways to compute the sensitivity matrix used in the equivalent layer composed by a set of  dipoles with unit magnetic moment \n",
    "### By Valeria Barbosa"
   ]
  },
  {
   "cell_type": "code",
   "execution_count": 1,
   "metadata": {
    "collapsed": false
   },
   "outputs": [
    {
     "name": "stderr",
     "output_type": "stream",
     "text": [
      "C:\\Anaconda2\\lib\\site-packages\\fatiando\\vis\\mpl.py:70: UserWarning: This module will be removed in v0.6. We recommend the use of matplotlib.pyplot module directly. Some of the fatiando specific functions will remain.\n",
      "  \"specific functions will remain.\")\n"
     ]
    }
   ],
   "source": [
    "import numpy as np\n",
    "\n",
    "from datetime import datetime\n",
    "\n",
    "from fatiando.vis import mpl\n",
    "from fatiando import mesher, gridder, utils\n",
    "from fatiando.mesher import Prism, PointGrid\n",
    "from fatiando.utils import dircos\n",
    "from fatiando.gravmag import prism, sphere\n"
   ]
  },
  {
   "cell_type": "code",
   "execution_count": 2,
   "metadata": {
    "collapsed": true
   },
   "outputs": [],
   "source": [
    "# \n",
    "# Function to compute the sensitivity matrix of the Total Field anomaly caused by magnetized DIPOLE \n",
    "# x axis is north, z axis is down\n",
    "#\n",
    "# Input parameters:\n",
    "# Observation point located at (xp,yp,zp). \n",
    "#\n",
    "# Dipole centered at (xc,yc,zc)  \n",
    "# Magnetization of dipole is defined by the direction cossines mx_s, my_s, mz_s\n",
    "#\n",
    "# The Geomagnetic Field is defined by the direction cossines: MX_Geomag, MY_Geomag, MZ_Geomag\n",
    "#\n",
    "# ATENTION:  THE dipole HAS: UNIT VOLUME AND UNIT  MAGNETIC MOMENT \n",
    "#\n",
    "# The Units:\n",
    "# of distance irrelevant but must be consistent. \n",
    "#\n",
    "# Output parameters:\n",
    "# tf = Total field anomaly in units of nT.\n",
    "#\n",
    "# Adapted from function Dipole of Blakely (1995)\n",
    "\n",
    "\n",
    "def dipole_unit_moment(xp, yp, zp, xc, yc, zc, mx_s, my_s, mz_s, MX_Geomag, MY_Geomag, MZ_Geomag):\n",
    "    #: Proportionality constant used in the magnetic method in henry/m (SI)\n",
    "    CM = 10. ** (-7)\n",
    "    #: Conversion factor from tesla to nanotesla\n",
    "    T2NT = 10. ** (9)\n",
    "    \n",
    "    rx = xp - xc\n",
    "    ry = yp - yc\n",
    "    rz = zp - zc\n",
    "    r2 = rx*rx + ry*ry + rz*rz\n",
    "    r  = np.sqrt(r2)\n",
    "    if np.any(r==0): print \"Bad argument detected\"\n",
    "    r5 = r**5\n",
    "    dot = rx*mx_s + ry*my_s + rz*mz_s\n",
    "    volume = 1.0\n",
    "    moment = 1.0\n",
    "    # moment = 4.*np.pi*(a**3)*m/3.\n",
    "    \n",
    "    bx = T2NT*CM*moment*(3.*dot*rx-r2*mx_s)/r5\n",
    "    by = T2NT*CM*moment*(3.*dot*ry-r2*my_s)/r5\n",
    "    bz = T2NT*CM*moment*(3.*dot*rz-r2*mz_s)/r5\n",
    "    \n",
    "    tf = bx*MX_Geomag + by*MY_Geomag + bz*MZ_Geomag\n",
    "    return tf\n",
    "\n",
    "\n",
    "# DIRCOS computes direction cosines from inclination and declination,\n",
    "#\n",
    "# Input parameters:\n",
    "# incl: inclination in degrees positive below horizontal,\n",
    "# decl: declination in degrees positive east of true north,\n",
    "# azim: azimuth of x axis in degrees positive east of north,\n",
    "#\n",
    "# Output parameters:\n",
    "# mx,my,mz: the three direction cosines\n",
    "\n",
    "\n",
    "def dircos_blakely(incl,decl,azim):\n",
    "    d2rad = 0.017453293\n",
    "    xincl=incl*d2rad\n",
    "    xdecl=decl*d2rad\n",
    "    xazim=azim*d2rad\n",
    "    mx=np.cos(xincl)*np.cos(xdecl-xazim)\n",
    "    my=np.cos(xincl)*np.sin(xdecl-xazim)\n",
    "    mz=np.sin(xincl)\n",
    "    return mx, my, mz\n"
   ]
  },
  {
   "cell_type": "code",
   "execution_count": 3,
   "metadata": {
    "collapsed": true
   },
   "outputs": [],
   "source": [
    "# \n",
    "# Function to compute the sensitivity matrix of the Bx By Bz caused by magnetized DIPOLE \n",
    "# x axis is north, z axis is down\n",
    "#\n",
    "# Input parameters:\n",
    "# Observation point located at (xp,yp,zp). \n",
    "#\n",
    "# Dipole centered at (xc,yc,zc)  \n",
    "# Magnetization of dipole is defined by the direction cossines mx_s, my_s, mz_s\n",
    "#\n",
    "# The Geomagnetic Field is defined by the direction cossines: MX_Geomag, MY_Geomag, MZ_Geomag\n",
    "#\n",
    "# ATENTION:  THE dipole HAS: UNIT VOLUME AND UNIT  MAGNETIC MOMENT \n",
    "#\n",
    "# The Units:\n",
    "# of distance irrelevant but must be consistent. \n",
    "#\n",
    "# Output parameters:\n",
    "# bx by and bz   in units of nT.\n",
    "#\n",
    "# Adapted from function Dipole of Blakely (1995)\n",
    "def dipole_BX_BY_BZ_unit_moment(xp, yp, zp, xc, yc, zc, mx_s, my_s, mz_s):\n",
    "    #: Proportionality constant used in the magnetic method in henry/m (SI)\n",
    "    CM = 10. ** (-7)\n",
    "    #: Conversion factor from tesla to nanotesla\n",
    "    T2NT = 10. ** (9)\n",
    "    \n",
    "    rx = xp - xc\n",
    "    ry = yp - yc\n",
    "    rz = zp - zc\n",
    "    r2 = rx*rx + ry*ry + rz*rz\n",
    "    r  = np.sqrt(r2)\n",
    "    if np.any(r==0): print \"Bad argument detected\"\n",
    "    r5 = r**5\n",
    "    dot = rx*mx_s + ry*my_s + rz*mz_s\n",
    "    volume = 1.0\n",
    "    moment = 1.0\n",
    "    # moment = 4.*np.pi*(a**3)*m/3.\n",
    "    \n",
    "    bx = T2NT*CM*moment*(3.*dot*rx-r2*mx_s)/r5\n",
    "    by = T2NT*CM*moment*(3.*dot*ry-r2*my_s)/r5\n",
    "    bz = T2NT*CM*moment*(3.*dot*rz-r2*mz_s)/r5\n",
    "    \n",
    "    return bx, by, bz\n"
   ]
  },
  {
   "cell_type": "markdown",
   "metadata": {},
   "source": [
    "# Grid of Observations"
   ]
  },
  {
   "cell_type": "code",
   "execution_count": 4,
   "metadata": {
    "collapsed": false
   },
   "outputs": [],
   "source": [
    "start_time_total = datetime.now()\n",
    "\n",
    "N_East    = 100\n",
    "N_North   = 100\n",
    "area      = (-5000., 5000., -5000., 5000.)\n",
    "shape_obs = (N_North,N_East)\n",
    "\n",
    "z_dado = 0.0\n",
    "\n",
    "xi, yi, zi = gridder.regular(area, shape_obs, z=z_dado)\n"
   ]
  },
  {
   "cell_type": "code",
   "execution_count": 5,
   "metadata": {
    "collapsed": true
   },
   "outputs": [],
   "source": [
    "### Input \n",
    "\n",
    "# Inclination and declination of the of the Geomagnetic Field\n",
    "\n",
    "inc =  20.\n",
    "dec =  10.\n",
    "\n",
    "# Inclination and declination of the equivalent sources are DIFFERENT to Inclination and declintion of the true source dec_eq = decs\n",
    "\n",
    "inc_eq = 60.\n",
    "dec_eq = 20.\n"
   ]
  },
  {
   "cell_type": "markdown",
   "metadata": {},
   "source": [
    "# Equivalent sources (using the same shape of the data)"
   ]
  },
  {
   "cell_type": "code",
   "execution_count": 6,
   "metadata": {
    "collapsed": false
   },
   "outputs": [
    {
     "name": "stdout",
     "output_type": "stream",
     "text": [
      "[ 200.  200.  200. ...,  200.  200.  200.]\n"
     ]
    }
   ],
   "source": [
    "plano_fonte = 200.\n",
    "zk = np.zeros_like(zi) + plano_fonte\n",
    "print zk\n",
    "\n",
    "xk, yk, zk = gridder.regular(area, shape_obs, z=zk)"
   ]
  },
  {
   "cell_type": "markdown",
   "metadata": {},
   "source": [
    "## By Valeria:  Sensitivity Matrix using dipoles "
   ]
  },
  {
   "cell_type": "code",
   "execution_count": 7,
   "metadata": {
    "collapsed": false
   },
   "outputs": [
    {
     "name": "stdout",
     "output_type": "stream",
     "text": [
      "10000 10000\n",
      "Duration: 0:00:11.302000\n"
     ]
    }
   ],
   "source": [
    "Npts     = len(xi)\n",
    "M_source = len(zk)\n",
    "print Npts, M_source \n",
    "\n",
    "\n",
    "TF = np.empty((Npts,M_source),dtype =float)\n",
    "\n",
    "#  Direction cosines of the equivalent layer\n",
    "# The three direction cosines of the dipoles that set up the equivalent layer \n",
    "mx_eq, my_eq, mz_eq = dircos_blakely(inc_eq, dec_eq,0.)\n",
    "\n",
    "\n",
    "#  Direction cosines of the Geomagnetic Field\n",
    "# The three direction cosines of the of the Geomagnetic Field\n",
    "MX, MY, MZ = dircos_blakely(inc,dec,0.)\n",
    "\n",
    "\n",
    "# Computing the sensitivity matrix by column \n",
    "start_time_matrizes_valeria = datetime.now()\n",
    "\n",
    "for j  in range(M_source):\n",
    "    TF[:,j] = dipole_unit_moment(xi,yi,zi,xk[j],yk[j],zk[j], mx_eq, my_eq, mz_eq, MX, MY, MZ)\n",
    "\n",
    "\n",
    "end_time_matrizes_valeria = datetime.now()\n",
    "print('Duration: {}'.format(end_time_matrizes_valeria - start_time_matrizes_valeria))\n",
    "\n"
   ]
  },
  {
   "cell_type": "code",
   "execution_count": 8,
   "metadata": {
    "collapsed": false
   },
   "outputs": [
    {
     "name": "stdout",
     "output_type": "stream",
     "text": [
      "Inclination and declination of the Geomagnetic Field:  20.0 10.0\n",
      "direction cosines of the Geomagnetic Field:  0.925416574381 0.163175915039 0.342020152348\n",
      "Inclination and declination of the Eq Layer (in degrees): 60.0 20.0\n",
      "direction cosines of the dipoles that set up the equivalent layer: 0.469846285311 0.171010067642 0.866025418186\n"
     ]
    }
   ],
   "source": [
    "print 'Inclination and declination of the Geomagnetic Field: ', inc, dec\n",
    "print 'direction cosines of the Geomagnetic Field: ',  MX, MY, MZ\n",
    "\n",
    "print 'Inclination and declination of the Eq Layer (in degrees):', inc_eq, dec_eq\n",
    "print 'direction cosines of the dipoles that set up the equivalent layer:', mx_eq, my_eq, mz_eq "
   ]
  },
  {
   "cell_type": "markdown",
   "metadata": {},
   "source": [
    "## By FATIANDO: Sensitivity Matrix using dipoles"
   ]
  },
  {
   "cell_type": "code",
   "execution_count": 9,
   "metadata": {
    "collapsed": false
   },
   "outputs": [
    {
     "name": "stdout",
     "output_type": "stream",
     "text": [
      "Inclination and declination of the Eq Layer (in degrees): 60.0 20.0\n",
      "direction cosines of the dipoles that set up the equivalent layer:  [0.46984631039295432, 0.17101007166283438, 0.8660254037844386]\n"
     ]
    }
   ],
   "source": [
    "# Sensitivity Matrix from Fatiando\n",
    "mag_eq = dircos(inc_eq, dec_eq)\n",
    "\n",
    "print 'Inclination and declination of the Eq Layer (in degrees):', inc_eq, dec_eq\n",
    "print 'direction cosines of the dipoles that set up the equivalent layer: ' ,  mag_eq\n",
    "\n",
    "\n"
   ]
  },
  {
   "cell_type": "code",
   "execution_count": 10,
   "metadata": {
    "collapsed": false
   },
   "outputs": [
    {
     "name": "stdout",
     "output_type": "stream",
     "text": [
      "Duration: 0:00:05.892000\n"
     ]
    }
   ],
   "source": [
    "# creating the layer of the equivalent layer\n",
    "layer = PointGrid(area, zk, shape_obs)\n",
    "\n",
    "start_time_matrizes_fatiando = datetime.now()\n",
    "\n",
    "TF_Fatiando = np.empty((Npts, M_source),dtype =float)\n",
    "for i, c in enumerate(layer):\n",
    "    TF_Fatiando[:,i] = sphere.tf(xi, yi, zi, [c], inc, dec, pmag = mag_eq)\n",
    "    \n",
    "end_time_matrizes_fatiando = datetime.now()\n",
    "print('Duration: {}'.format(end_time_matrizes_fatiando - start_time_matrizes_fatiando))\n",
    "    \n",
    "   "
   ]
  },
  {
   "cell_type": "code",
   "execution_count": 11,
   "metadata": {
    "collapsed": false
   },
   "outputs": [
    {
     "data": {
      "text/plain": [
       "True"
      ]
     },
     "execution_count": 11,
     "metadata": {},
     "output_type": "execute_result"
    }
   ],
   "source": [
    "np.allclose(TF_Fatiando, TF)"
   ]
  },
  {
   "cell_type": "markdown",
   "metadata": {},
   "source": [
    "#  Sensitivity Matricies of Bx By and Bz using dipoles "
   ]
  },
  {
   "cell_type": "markdown",
   "metadata": {},
   "source": [
    "### By Valeria: Sensitivity Matrices of BX BY and BZ using dipoles"
   ]
  },
  {
   "cell_type": "code",
   "execution_count": 12,
   "metadata": {
    "collapsed": false
   },
   "outputs": [
    {
     "name": "stdout",
     "output_type": "stream",
     "text": [
      "Duration: 0:00:35.131000\n"
     ]
    }
   ],
   "source": [
    "BX = np.empty((Npts, M_source),dtype =float)\n",
    "BY = np.empty((Npts, M_source),dtype =float)\n",
    "BZ = np.empty((Npts, M_source),dtype =float)\n",
    "\n",
    "\n",
    "# Computing the sensitivity matrix by column \n",
    "start_time_matrizes_componentes_valeria = datetime.now()\n",
    "\n",
    "for j  in range(M_source):\n",
    "    BX[:,j], BY[:,j],BZ[:,j] = dipole_BX_BY_BZ_unit_moment(xi,yi,zi,xk[j],yk[j],zk[j], mx_eq, my_eq, mz_eq)\n",
    "\n",
    "\n",
    "end_time_matrizes_valeria = datetime.now()\n",
    "print('Duration: {}'.format(end_time_matrizes_valeria - start_time_matrizes_valeria))\n"
   ]
  },
  {
   "cell_type": "markdown",
   "metadata": {},
   "source": [
    "### By FATIANDO: Sensitivity Matrices of BX BY and BZ using dipoles"
   ]
  },
  {
   "cell_type": "code",
   "execution_count": 13,
   "metadata": {
    "collapsed": false
   },
   "outputs": [
    {
     "name": "stdout",
     "output_type": "stream",
     "text": [
      "Duration: 0:00:13.467000\n"
     ]
    }
   ],
   "source": [
    "# creating the layer of the equivalent layer\n",
    "layer = PointGrid(area, zk, shape_obs)\n",
    "\n",
    "start_time_matrizes_componentes_fatiando = datetime.now()\n",
    "\n",
    "BX_Fatiando = np.empty((Npts, M_source),dtype =float)\n",
    "BY_Fatiando = np.empty((Npts, M_source),dtype =float)\n",
    "BZ_Fatiando = np.empty((Npts, M_source),dtype =float)\n",
    "\n",
    "for i, c in enumerate(layer):\n",
    "    BX_Fatiando[:,i] = sphere.bx(xi, yi, zi, [c], pmag = mag_eq)\n",
    "    BY_Fatiando[:,i] = sphere.by(xi, yi, zi, [c], pmag = mag_eq)\n",
    "    BZ_Fatiando[:,i] = sphere.bz(xi, yi, zi, [c], pmag = mag_eq)\n",
    "    \n",
    "end_time_matrizes_componentes_fatiando = datetime.now()\n",
    "print('Duration: {}'.format(end_time_matrizes_componentes_fatiando - start_time_matrizes_componentes_fatiando))\n",
    "    "
   ]
  },
  {
   "cell_type": "code",
   "execution_count": 15,
   "metadata": {
    "collapsed": false
   },
   "outputs": [
    {
     "data": {
      "text/plain": [
       "True"
      ]
     },
     "execution_count": 15,
     "metadata": {},
     "output_type": "execute_result"
    }
   ],
   "source": [
    "np.allclose(BX_Fatiando, BX)\n"
   ]
  },
  {
   "cell_type": "code",
   "execution_count": 16,
   "metadata": {
    "collapsed": false
   },
   "outputs": [
    {
     "data": {
      "text/plain": [
       "True"
      ]
     },
     "execution_count": 16,
     "metadata": {},
     "output_type": "execute_result"
    }
   ],
   "source": [
    "np.allclose(BY_Fatiando, BY)\n"
   ]
  },
  {
   "cell_type": "code",
   "execution_count": 17,
   "metadata": {
    "collapsed": false
   },
   "outputs": [
    {
     "data": {
      "text/plain": [
       "True"
      ]
     },
     "execution_count": 17,
     "metadata": {},
     "output_type": "execute_result"
    }
   ],
   "source": [
    "np.allclose(BZ_Fatiando, BZ)"
   ]
  }
 ],
 "metadata": {
  "kernelspec": {
   "display_name": "Python 2",
   "language": "python",
   "name": "python2"
  },
  "language_info": {
   "codemirror_mode": {
    "name": "ipython",
    "version": 2
   },
   "file_extension": ".py",
   "mimetype": "text/x-python",
   "name": "python",
   "nbconvert_exporter": "python",
   "pygments_lexer": "ipython2",
   "version": "2.7.13"
  }
 },
 "nbformat": 4,
 "nbformat_minor": 0
}
